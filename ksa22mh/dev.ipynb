{
 "cells": [
  {
   "cell_type": "code",
   "execution_count": 37,
   "metadata": {},
   "outputs": [],
   "source": [
    "import os\n",
    "import openai\n",
    "import pandas as pd\n",
    "import PyPDF2 as pdf\n",
    "import re\n",
    "from dotenv import load_dotenv\n",
    "from tqdm import tqdm\n",
    "import json"
   ]
  },
  {
   "cell_type": "code",
   "execution_count": 41,
   "metadata": {},
   "outputs": [],
   "source": [
    "load_dotenv()\n",
    "DATA_FOLDER = 'dane'\n",
    "OPENAI_KEY  = os.getenv('OPENAI_KEY')\n",
    "\n",
    "openai.api_key = OPENAI_KEY\n",
    "\n",
    "PATTERN = r'Zad\\.\\s[0-9]\\.(.*?)\\n'"
   ]
  },
  {
   "cell_type": "code",
   "execution_count": null,
   "metadata": {},
   "outputs": [],
   "source": [
    "def read_tasks(text, pattern):\n",
    "    tasks = []\n",
    "    matches = re.findall(pattern, text, flags=re.DOTALL)\n",
    "    for match in matches:\n",
    "        tasks.append(match.strip())\n",
    "\n",
    "    return tasks"
   ]
  },
  {
   "cell_type": "code",
   "execution_count": 43,
   "metadata": {},
   "outputs": [],
   "source": [
    "def read_pdf(path):\n",
    "    pdfFileObj = open(path, 'rb')\n",
    "    pdf_reader = pdf.PdfReader(pdfFileObj)\n",
    "    pageObj = pdf_reader.pages[0]\n",
    "    return pageObj.extract_text()"
   ]
  },
  {
   "cell_type": "code",
   "execution_count": 59,
   "metadata": {},
   "outputs": [],
   "source": [
    "def prompt_gpt(question):\n",
    "    messages = [{\"role\": \"user\", \"content\": question}]\n",
    "    response = openai.ChatCompletion.create(\n",
    "        model=\"gpt-3.5-turbo\",\n",
    "        messages=messages\n",
    "    )\n",
    "    return response.choices[0].message.content"
   ]
  },
  {
   "cell_type": "code",
   "execution_count": 60,
   "metadata": {},
   "outputs": [
    {
     "name": "stderr",
     "output_type": "stream",
     "text": [
      "100%|██████████| 45/45 [1:04:05<00:00, 85.45s/it]\n"
     ]
    }
   ],
   "source": [
    "def main():\n",
    "    solutions = {}\n",
    "    for f in tqdm(os.listdir(DATA_FOLDER)):\n",
    "        if f.endswith('.pdf'):\n",
    "            file_number = f.split('.')[0]\n",
    "            key = f\"## Plik. {file_number}\"\n",
    "            solutions[key] = {}     \n",
    "            text = read_pdf(os.path.join(DATA_FOLDER, f))\n",
    "            tasks = read_tasks(text, PATTERN)\n",
    "\n",
    "            solutions[key]['q&a'] = []\n",
    "            solutions[key]['#n'] = int(file_number)\n",
    "\n",
    "            for n, task in enumerate(tasks):\n",
    "                try:\n",
    "                    answer = prompt_gpt(task)\n",
    "                except:\n",
    "                    answer = 'N/A'\n",
    "                    \n",
    "                solutions[key]['q&a'].append({f'Zad. {n+1} {task}': answer})\n",
    "    # sort dict by values\n",
    "    solutions = dict(sorted(solutions.items(), key=lambda x: x[1]['#n'])) \n",
    "\n",
    "    with open('kolo.json', 'w') as f:\n",
    "        json.dump(solutions, f)\n",
    "\n",
    "\n",
    "main()"
   ]
  },
  {
   "attachments": {},
   "cell_type": "markdown",
   "metadata": {},
   "source": [
    "### **uporządkowanie struktury pliku txt**"
   ]
  },
  {
   "cell_type": "code",
   "execution_count": 61,
   "metadata": {},
   "outputs": [],
   "source": [
    "content = json.load(open('kolo.json', 'r'))\n",
    "one_big_string = ''\n",
    "for k, v in content.items():\n",
    "    one_big_string += k + '\\n'\n",
    "    for p in v['q&a']:\n",
    "        for k, v in p.items():\n",
    "            one_big_string += k + '\\n'\n",
    "            one_big_string += v + '\\n'\n",
    "        one_big_string += '\\n'\n",
    "\n",
    "with open('kolokwium.md', 'w') as f:\n",
    "    f.write(one_big_string)"
   ]
  },
  {
   "cell_type": "code",
   "execution_count": 20,
   "metadata": {},
   "outputs": [],
   "source": [
    "pattern = r'(Zad\\.[0-9]+\\.[0-9]|[.*?])Zad\\.[0-9]+\\.[0-9]'"
   ]
  },
  {
   "cell_type": "code",
   "execution_count": 38,
   "metadata": {},
   "outputs": [
    {
     "name": "stdout",
     "output_type": "stream",
     "text": [
      "[]\n"
     ]
    }
   ],
   "source": [
    "text_file = \"questions_and_answers.txt\"\n",
    "\n",
    "with open(text_file, 'r') as f:\n",
    "    text = f.read()\n",
    "    tasks = re.findall(pattern, text)\n",
    "    print(tasks)\n"
   ]
  },
  {
   "cell_type": "code",
   "execution_count": null,
   "metadata": {},
   "outputs": [],
   "source": []
  }
 ],
 "metadata": {
  "kernelspec": {
   "display_name": "sa-venv",
   "language": "python",
   "name": "python3"
  },
  "language_info": {
   "codemirror_mode": {
    "name": "ipython",
    "version": 3
   },
   "file_extension": ".py",
   "mimetype": "text/x-python",
   "name": "python",
   "nbconvert_exporter": "python",
   "pygments_lexer": "ipython3",
   "version": "3.10.6"
  },
  "orig_nbformat": 4,
  "vscode": {
   "interpreter": {
    "hash": "ef5092ab69cb585185ec68ff23d040008e02ae8c5e2b24c5db8853dd68d3f0db"
   }
  }
 },
 "nbformat": 4,
 "nbformat_minor": 2
}
