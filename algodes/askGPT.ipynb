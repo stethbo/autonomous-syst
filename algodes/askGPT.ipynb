{
 "cells": [
  {
   "cell_type": "code",
   "execution_count": 1,
   "metadata": {},
   "outputs": [],
   "source": [
    "import openai\n",
    "import json\n",
    "import os\n",
    "from tqdm import tqdm\n",
    "\n",
    "openai.api_key = os.environ[\"OPENAI_API_KEY\"]\n",
    "MODEL_NAME = \"gpt-3.5-turbo\""
   ]
  },
  {
   "cell_type": "code",
   "execution_count": 2,
   "metadata": {},
   "outputs": [],
   "source": [
    "topics_file = \"algo_des_all_topics.json\"\n",
    "topics = json.load(open(topics_file, \"r\"))"
   ]
  },
  {
   "cell_type": "code",
   "execution_count": 3,
   "metadata": {},
   "outputs": [],
   "source": [
    "def prompt_gpt(question):\n",
    "    messages = [{\"role\": \"user\", \"content\": question}]\n",
    "    response = openai.ChatCompletion.create(\n",
    "        model=\"gpt-3.5-turbo\",\n",
    "        messages=messages\n",
    "    )\n",
    "    return response.choices[0].message.content"
   ]
  },
  {
   "cell_type": "code",
   "execution_count": 4,
   "metadata": {},
   "outputs": [
    {
     "name": "stderr",
     "output_type": "stream",
     "text": [
      "4it [04:21, 65.29s/it]\n"
     ]
    }
   ],
   "source": [
    "with open(\"odpowiedzi.md\", \"a\") as f:\n",
    "    for n, topic in tqdm(enumerate(topics['definicje'])):\n",
    "        f.write(F\"# **{n}. {topic}**\\n\\n\")\n",
    "        for subtopic in topics['definicje'][topic]:\n",
    "            prompt = f\"W kontekście tematu: '{topic}' zdefiniuj pojęcie: '{subtopic}'\"\n",
    "            try:\n",
    "                response = prompt_gpt(question=prompt)\n",
    "            except:\n",
    "                response = \"N/A\"\n",
    "\n",
    "            f.write(f\"{response}\\n\\n\")\n",
    "            f.write(F\"### **{subtopic}**\\n\\n\")"
   ]
  },
  {
   "cell_type": "code",
   "execution_count": null,
   "metadata": {},
   "outputs": [],
   "source": []
  }
 ],
 "metadata": {
  "kernelspec": {
   "display_name": "Python 3",
   "language": "python",
   "name": "python3"
  },
  "language_info": {
   "codemirror_mode": {
    "name": "ipython",
    "version": 3
   },
   "file_extension": ".py",
   "mimetype": "text/x-python",
   "name": "python",
   "nbconvert_exporter": "python",
   "pygments_lexer": "ipython3",
   "version": "3.10.6"
  },
  "orig_nbformat": 4
 },
 "nbformat": 4,
 "nbformat_minor": 2
}
