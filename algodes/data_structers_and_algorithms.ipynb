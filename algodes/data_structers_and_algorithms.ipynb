{
 "cells": [
  {
   "attachments": {},
   "cell_type": "markdown",
   "metadata": {},
   "source": [
    "#### **Merge sort**"
   ]
  },
  {
   "cell_type": "code",
   "execution_count": 11,
   "metadata": {},
   "outputs": [
    {
     "name": "stdout",
     "output_type": "stream",
     "text": [
      "[5 4 9 1 5 1 5 4 7 3]\n",
      "[5, 4, 9, 1, 5, 1, 5, 4, 7, 3]\n"
     ]
    }
   ],
   "source": [
    "import numpy as np\n",
    "def merge_sort(arr):\n",
    "    arr = list(arr)\n",
    "    if len(arr) <= 1:\n",
    "        return arr\n",
    "    \n",
    "    split_idx = len(arr) // 2\n",
    "    left = arr[0:split_idx]\n",
    "    right = arr[split_idx:]\n",
    "\n",
    "    left = merge_sort(left)\n",
    "    right = merge_sort(right)\n",
    "\n",
    "    return left + right\n",
    "\n",
    "\n",
    "A = np.random.randint(0, 10, 10)\n",
    "\n",
    "B = merge_sort(A)\n",
    "\n",
    "print(A)\n",
    "print(B)"
   ]
  },
  {
   "cell_type": "code",
   "execution_count": null,
   "metadata": {},
   "outputs": [],
   "source": []
  }
 ],
 "metadata": {
  "kernelspec": {
   "display_name": "Python 3",
   "language": "python",
   "name": "python3"
  },
  "language_info": {
   "codemirror_mode": {
    "name": "ipython",
    "version": 3
   },
   "file_extension": ".py",
   "mimetype": "text/x-python",
   "name": "python",
   "nbconvert_exporter": "python",
   "pygments_lexer": "ipython3",
   "version": "3.10.6"
  },
  "orig_nbformat": 4
 },
 "nbformat": 4,
 "nbformat_minor": 2
}
